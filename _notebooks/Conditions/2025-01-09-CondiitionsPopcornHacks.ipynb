{
 "cells": [
  {
   "cell_type": "raw",
   "metadata": {
    "vscode": {
     "languageId": "raw"
    }
   },
   "source": [
    "---\n",
    "layout: post\n",
    "title: Conditions Popcorn Hacks\n",
    "description: Popcorn hacks for conditions!\n",
    "toc: true\n",
    "---"
   ]
  },
  {
   "cell_type": "markdown",
   "metadata": {},
   "source": [
    "# Popcorn Hacks!\n",
    "Create simple systems of varying degrees that ask users what their favorite color is.\n",
    "\n",
    "### Hack 1: If-Statement\n",
    "Create a system that asks users what their favorite color is:\n",
    "\n",
    "Create a variable for the favorite color and a prompt to go along with it. Then, create an if-statement using the variable and a response message to go along with it."
   ]
  },
  {
   "cell_type": "code",
   "execution_count": 11,
   "metadata": {
    "vscode": {
     "languageId": "javascript"
    }
   },
   "outputs": [
    {
     "data": {
      "application/javascript": "// Prompt users for their favorite color\nlet favoriteColor = \"yellow\";\n\nif (favoriteColor === \"pink\") {\n    console.log(\"pink? more like STINK AHAHFAHRTJAFKUJtzFJVD^SUYk\");\n    console.log(\"jk pink is pretty cool\");\n} else if (favoriteColor !== \"yellow\" || favoriteColor !== \"Yellow\"){\n    console.log(\"Imagine not picking yellow smh...\");\n} else {\n    console.log(\"Yellow is goated\");\n}\n",
      "text/plain": [
       "<IPython.core.display.Javascript object>"
      ]
     },
     "metadata": {},
     "output_type": "display_data"
    }
   ],
   "source": [
    "%%js\n",
    "// Prompt users for their favorite color\n",
    "let favoriteColor = \"yellow\";\n",
    "\n",
    "if (favoriteColor === \"pink\") {\n",
    "    console.log(\"pink? more like STINK AHAHFAHRTJAFKUJtzFJVD^SUYk\");\n",
    "    console.log(\"jk pink is pretty cool\");\n",
    "} else if (favoriteColor !== \"yellow\" || favoriteColor !== \"Yellow\"){\n",
    "    console.log(\"Imagine not picking yellow smh...\");\n",
    "} else {\n",
    "    console.log(\"Yellow is goated\");\n",
    "}"
   ]
  },
  {
   "cell_type": "markdown",
   "metadata": {},
   "source": [
    "### Hack 2: If-Else Statement\n",
    "Using the code from before as a base, you will make a system that uses an \"if-else\" statement prompting users on their favorite color."
   ]
  },
  {
   "cell_type": "code",
   "execution_count": null,
   "metadata": {
    "vscode": {
     "languageId": "javascript"
    }
   },
   "outputs": [],
   "source": [
    "%%js\n",
    "let favoriteColor = \"yellow\"\n",
    "\n",
    "// If their favorite color is pink, respond with a message, if not, respond with another message\n",
    "if (favoriteColor === \"yellow\") {\n",
    "    console.log(\"Correct Opinion :D\");\n",
    "} else {\n",
    "    console.log(\"Should've picked yellow\");\n",
    "}"
   ]
  },
  {
   "cell_type": "markdown",
   "metadata": {},
   "source": [
    "### Hack 3: Else-If Statement\n",
    "Again, based off your last piece of code, update the system to use an \"else-if\" statement prompting users on their favorite color."
   ]
  },
  {
   "cell_type": "code",
   "execution_count": 13,
   "metadata": {
    "vscode": {
     "languageId": "javascript"
    }
   },
   "outputs": [
    {
     "data": {
      "application/javascript": "let favoriteColor = \"yellow\"\n\n// If their favorite color is pink, respond with a message, if not, respond with another message\nif (favoriteColor === \"yellow\") {\n    console.log(\"muy bein chico\");\n} else if (favoriteColor === \"blue\") {\n    console.log(\"OVERRATED!!!!!!!!!!!!!!!!!!!!!!!!!!! CRINGE OPINION!!!!!!!!!!!!!!! PERISH!!!!!!!!!!!!!!!\")\n    window.close();\n} else {\n    console.log(\"Welp u shoulda picked yellow\");\n}\n",
      "text/plain": [
       "<IPython.core.display.Javascript object>"
      ]
     },
     "metadata": {},
     "output_type": "display_data"
    }
   ],
   "source": [
    "%%js\n",
    "let favoriteColor = \"yellow\"\n",
    "\n",
    "// If their favorite color is pink, respond with a message, if not, respond with another message\n",
    "if (favoriteColor === \"yellow\") {\n",
    "    console.log(\"muy bein chico\");\n",
    "} else if (favoriteColor === \"blue\") {\n",
    "    console.log(\"OVERRATED!!!!!!!!!!!!!!!!!!!!!!!!!!! CRINGE OPINION!!!!!!!!!!!!!!! PERISH!!!!!!!!!!!!!!!\")\n",
    "    window.close();\n",
    "} else {\n",
    "    console.log(\"Welp u shoulda picked yellow\");\n",
    "}"
   ]
  },
  {
   "cell_type": "markdown",
   "metadata": {},
   "source": [
    "Great! Now you know how to use varying types of \"if-statements\" in your code! "
   ]
  }
 ],
 "metadata": {
  "kernelspec": {
   "display_name": "venv",
   "language": "python",
   "name": "python3"
  },
  "language_info": {
   "codemirror_mode": {
    "name": "ipython",
    "version": 3
   },
   "file_extension": ".py",
   "mimetype": "text/x-python",
   "name": "python",
   "nbconvert_exporter": "python",
   "pygments_lexer": "ipython3",
   "version": "3.13.1"
  }
 },
 "nbformat": 4,
 "nbformat_minor": 2
}
